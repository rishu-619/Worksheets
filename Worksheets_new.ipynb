{
  "nbformat": 4,
  "nbformat_minor": 0,
  "metadata": {
    "colab": {
      "name": "Worksheets.ipynb",
      "provenance": [],
      "authorship_tag": "ABX9TyMzrVi7YtFcZWU0veBI2QKJ",
      "include_colab_link": true
    },
    "kernelspec": {
      "name": "python3",
      "display_name": "Python 3"
    },
    "accelerator": "GPU"
  },
  "cells": [
    {
      "cell_type": "markdown",
      "metadata": {
        "id": "view-in-github",
        "colab_type": "text"
      },
      "source": [
        "<a href=\"https://colab.research.google.com/github/rishu-619/Worksheets/blob/master/Worksheets_new.ipynb\" target=\"_parent\"><img src=\"https://colab.research.google.com/assets/colab-badge.svg\" alt=\"Open In Colab\"/></a>"
      ]
    },
    {
      "cell_type": "code",
      "metadata": {
        "id": "bfGH6GdcnvLu",
        "colab_type": "code",
        "colab": {
          "base_uri": "https://localhost:8080/",
          "height": 104
        },
        "outputId": "ffee41fe-b8b4-41f0-da3d-d68ee0c2a923"
      },
      "source": [
        "import math\n",
        "  \n",
        "print(\"ax2+bx+c\")\n",
        "a=int(input(\"Enter a value\"))\n",
        "b=int(input(\"Enter b value\"))\n",
        "c=int(input(\"Enter c value\"))\n",
        "\n",
        "x=(-b+math.sqrt(b*b-4*a*c))/(2*a)\n",
        "y=(-b-math.sqrt(b*b-4*a*c))/(2*a)\n",
        "print(x,\",\",y)"
      ],
      "execution_count": 5,
      "outputs": [
        {
          "output_type": "stream",
          "text": [
            "ax2+bx+c\n",
            "Enter a value11\n",
            "Enter b value44\n",
            "Enter c value3\n",
            "-0.06938540167315436 , -3.930614598326846\n"
          ],
          "name": "stdout"
        }
      ]
    },
    {
      "cell_type": "code",
      "metadata": {
        "id": "mO7pua1-n119",
        "colab_type": "code",
        "colab": {
          "base_uri": "https://localhost:8080/",
          "height": 52
        },
        "outputId": "82df1e20-e2e1-4cba-9579-4c04dde279d3"
      },
      "source": [
        "def add(n):\n",
        "  print(n*(n+1)/2)\n",
        "\n",
        "add(n = int(input(\" Enter the number\")))\n"
      ],
      "execution_count": 3,
      "outputs": [
        {
          "output_type": "stream",
          "text": [
            " Enter the number12\n",
            "78.0\n"
          ],
          "name": "stdout"
        }
      ]
    }
  ]
}